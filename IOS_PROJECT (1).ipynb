{
  "nbformat": 4,
  "nbformat_minor": 0,
  "metadata": {
    "colab": {
      "provenance": []
    },
    "kernelspec": {
      "name": "python3",
      "display_name": "Python 3"
    },
    "language_info": {
      "name": "python"
    },
    "widgets": {
      "application/vnd.jupyter.widget-state+json": {
        "e5c52079a9ba455f8b0e8b0c670b1ddc": {
          "model_module": "@jupyter-widgets/controls",
          "model_name": "ButtonModel",
          "model_module_version": "1.5.0",
          "state": {
            "_dom_classes": [],
            "_model_module": "@jupyter-widgets/controls",
            "_model_module_version": "1.5.0",
            "_model_name": "ButtonModel",
            "_view_count": null,
            "_view_module": "@jupyter-widgets/controls",
            "_view_module_version": "1.5.0",
            "_view_name": "ButtonView",
            "button_style": "",
            "description": "🎤 Hold to Record",
            "disabled": false,
            "icon": "",
            "layout": "IPY_MODEL_db93560416e04a03933a56277fffc2b5",
            "style": "IPY_MODEL_75c1407692fa44a5b228dd8d9d7dc8e9",
            "tooltip": ""
          }
        },
        "db93560416e04a03933a56277fffc2b5": {
          "model_module": "@jupyter-widgets/base",
          "model_name": "LayoutModel",
          "model_module_version": "1.2.0",
          "state": {
            "_model_module": "@jupyter-widgets/base",
            "_model_module_version": "1.2.0",
            "_model_name": "LayoutModel",
            "_view_count": null,
            "_view_module": "@jupyter-widgets/base",
            "_view_module_version": "1.2.0",
            "_view_name": "LayoutView",
            "align_content": null,
            "align_items": null,
            "align_self": null,
            "border": null,
            "bottom": null,
            "display": null,
            "flex": null,
            "flex_flow": null,
            "grid_area": null,
            "grid_auto_columns": null,
            "grid_auto_flow": null,
            "grid_auto_rows": null,
            "grid_column": null,
            "grid_gap": null,
            "grid_row": null,
            "grid_template_areas": null,
            "grid_template_columns": null,
            "grid_template_rows": null,
            "height": "50px",
            "justify_content": null,
            "justify_items": null,
            "left": null,
            "margin": null,
            "max_height": null,
            "max_width": null,
            "min_height": null,
            "min_width": null,
            "object_fit": null,
            "object_position": null,
            "order": null,
            "overflow": null,
            "overflow_x": null,
            "overflow_y": null,
            "padding": null,
            "right": null,
            "top": null,
            "visibility": null,
            "width": "200px"
          }
        },
        "75c1407692fa44a5b228dd8d9d7dc8e9": {
          "model_module": "@jupyter-widgets/controls",
          "model_name": "ButtonStyleModel",
          "model_module_version": "1.5.0",
          "state": {
            "_model_module": "@jupyter-widgets/controls",
            "_model_module_version": "1.5.0",
            "_model_name": "ButtonStyleModel",
            "_view_count": null,
            "_view_module": "@jupyter-widgets/base",
            "_view_module_version": "1.2.0",
            "_view_name": "StyleView",
            "button_color": null,
            "font_weight": ""
          }
        },
        "ad2efd3a3b884f90a79fbafc818d21e2": {
          "model_module": "@jupyter-widgets/controls",
          "model_name": "LabelModel",
          "model_module_version": "1.5.0",
          "state": {
            "_dom_classes": [],
            "_model_module": "@jupyter-widgets/controls",
            "_model_module_version": "1.5.0",
            "_model_name": "LabelModel",
            "_view_count": null,
            "_view_module": "@jupyter-widgets/controls",
            "_view_module_version": "1.5.0",
            "_view_name": "LabelView",
            "description": "",
            "description_tooltip": null,
            "layout": "IPY_MODEL_b24191994977417e95024f6e31e6ac40",
            "placeholder": "​",
            "style": "IPY_MODEL_498ad4ffc29c4bde9a3abbec8c9240e4",
            "value": "✅ Text inserted into proxy"
          }
        },
        "b24191994977417e95024f6e31e6ac40": {
          "model_module": "@jupyter-widgets/base",
          "model_name": "LayoutModel",
          "model_module_version": "1.2.0",
          "state": {
            "_model_module": "@jupyter-widgets/base",
            "_model_module_version": "1.2.0",
            "_model_name": "LayoutModel",
            "_view_count": null,
            "_view_module": "@jupyter-widgets/base",
            "_view_module_version": "1.2.0",
            "_view_name": "LayoutView",
            "align_content": null,
            "align_items": null,
            "align_self": null,
            "border": null,
            "bottom": null,
            "display": null,
            "flex": null,
            "flex_flow": null,
            "grid_area": null,
            "grid_auto_columns": null,
            "grid_auto_flow": null,
            "grid_auto_rows": null,
            "grid_column": null,
            "grid_gap": null,
            "grid_row": null,
            "grid_template_areas": null,
            "grid_template_columns": null,
            "grid_template_rows": null,
            "height": null,
            "justify_content": null,
            "justify_items": null,
            "left": null,
            "margin": null,
            "max_height": null,
            "max_width": null,
            "min_height": null,
            "min_width": null,
            "object_fit": null,
            "object_position": null,
            "order": null,
            "overflow": null,
            "overflow_x": null,
            "overflow_y": null,
            "padding": null,
            "right": null,
            "top": null,
            "visibility": null,
            "width": null
          }
        },
        "498ad4ffc29c4bde9a3abbec8c9240e4": {
          "model_module": "@jupyter-widgets/controls",
          "model_name": "DescriptionStyleModel",
          "model_module_version": "1.5.0",
          "state": {
            "_model_module": "@jupyter-widgets/controls",
            "_model_module_version": "1.5.0",
            "_model_name": "DescriptionStyleModel",
            "_view_count": null,
            "_view_module": "@jupyter-widgets/base",
            "_view_module_version": "1.2.0",
            "_view_name": "StyleView",
            "description_width": ""
          }
        },
        "13c502f422fb4d1db4177d79ed466f46": {
          "model_module": "@jupyter-widgets/controls",
          "model_name": "TextareaModel",
          "model_module_version": "1.5.0",
          "state": {
            "_dom_classes": [],
            "_model_module": "@jupyter-widgets/controls",
            "_model_module_version": "1.5.0",
            "_model_name": "TextareaModel",
            "_view_count": null,
            "_view_module": "@jupyter-widgets/controls",
            "_view_module_version": "1.5.0",
            "_view_name": "TextareaView",
            "continuous_update": true,
            "description": "",
            "description_tooltip": null,
            "disabled": false,
            "layout": "IPY_MODEL_1fa342fc8612426fb7f2f7b7e5f60913",
            "placeholder": "Keyboard inserts text here...",
            "rows": null,
            "style": "IPY_MODEL_15910a158e7a4269820af61ba3d621a2",
            "value": " Hello, Panchit here. "
          }
        },
        "1fa342fc8612426fb7f2f7b7e5f60913": {
          "model_module": "@jupyter-widgets/base",
          "model_name": "LayoutModel",
          "model_module_version": "1.2.0",
          "state": {
            "_model_module": "@jupyter-widgets/base",
            "_model_module_version": "1.2.0",
            "_model_name": "LayoutModel",
            "_view_count": null,
            "_view_module": "@jupyter-widgets/base",
            "_view_module_version": "1.2.0",
            "_view_name": "LayoutView",
            "align_content": null,
            "align_items": null,
            "align_self": null,
            "border": null,
            "bottom": null,
            "display": null,
            "flex": null,
            "flex_flow": null,
            "grid_area": null,
            "grid_auto_columns": null,
            "grid_auto_flow": null,
            "grid_auto_rows": null,
            "grid_column": null,
            "grid_gap": null,
            "grid_row": null,
            "grid_template_areas": null,
            "grid_template_columns": null,
            "grid_template_rows": null,
            "height": "100px",
            "justify_content": null,
            "justify_items": null,
            "left": null,
            "margin": null,
            "max_height": null,
            "max_width": null,
            "min_height": null,
            "min_width": null,
            "object_fit": null,
            "object_position": null,
            "order": null,
            "overflow": null,
            "overflow_x": null,
            "overflow_y": null,
            "padding": null,
            "right": null,
            "top": null,
            "visibility": null,
            "width": "100%"
          }
        },
        "15910a158e7a4269820af61ba3d621a2": {
          "model_module": "@jupyter-widgets/controls",
          "model_name": "DescriptionStyleModel",
          "model_module_version": "1.5.0",
          "state": {
            "_model_module": "@jupyter-widgets/controls",
            "_model_module_version": "1.5.0",
            "_model_name": "DescriptionStyleModel",
            "_view_count": null,
            "_view_module": "@jupyter-widgets/base",
            "_view_module_version": "1.2.0",
            "_view_name": "StyleView",
            "description_width": ""
          }
        }
      }
    }
  },
  "cells": [
    {
      "cell_type": "markdown",
      "source": [
        "Set up an environment where you can record audio (sounddevice) → save/load it (soundfile) → send it to a server/API (requests)."
      ],
      "metadata": {
        "id": "P2bujv4igNyN"
      }
    },
    {
      "cell_type": "code",
      "source": [
        "pip install sounddevice soundfile requests\n"
      ],
      "metadata": {
        "colab": {
          "base_uri": "https://localhost:8080/"
        },
        "id": "7OarzAvs6MZB",
        "outputId": "0f1ebf13-55e2-488d-b3e4-4c92a2244767"
      },
      "execution_count": 2,
      "outputs": [
        {
          "output_type": "stream",
          "name": "stdout",
          "text": [
            "Collecting sounddevice\n",
            "  Downloading sounddevice-0.5.2-py3-none-any.whl.metadata (1.6 kB)\n",
            "Requirement already satisfied: soundfile in /usr/local/lib/python3.12/dist-packages (0.13.1)\n",
            "Requirement already satisfied: requests in /usr/local/lib/python3.12/dist-packages (2.32.4)\n",
            "Requirement already satisfied: CFFI>=1.0 in /usr/local/lib/python3.12/dist-packages (from sounddevice) (1.17.1)\n",
            "Requirement already satisfied: numpy in /usr/local/lib/python3.12/dist-packages (from soundfile) (2.0.2)\n",
            "Requirement already satisfied: charset_normalizer<4,>=2 in /usr/local/lib/python3.12/dist-packages (from requests) (3.4.3)\n",
            "Requirement already satisfied: idna<4,>=2.5 in /usr/local/lib/python3.12/dist-packages (from requests) (3.10)\n",
            "Requirement already satisfied: urllib3<3,>=1.21.1 in /usr/local/lib/python3.12/dist-packages (from requests) (2.5.0)\n",
            "Requirement already satisfied: certifi>=2017.4.17 in /usr/local/lib/python3.12/dist-packages (from requests) (2025.8.3)\n",
            "Requirement already satisfied: pycparser in /usr/local/lib/python3.12/dist-packages (from CFFI>=1.0->sounddevice) (2.22)\n",
            "Downloading sounddevice-0.5.2-py3-none-any.whl (32 kB)\n",
            "Installing collected packages: sounddevice\n",
            "Successfully installed sounddevice-0.5.2\n"
          ]
        }
      ]
    },
    {
      "cell_type": "code",
      "source": [
        "pip install sounddevice soundfile\n"
      ],
      "metadata": {
        "colab": {
          "base_uri": "https://localhost:8080/"
        },
        "id": "qa7U2z3F7H6j",
        "outputId": "49fa0a35-453e-459a-dbb2-d1a36ed88d4b"
      },
      "execution_count": 5,
      "outputs": [
        {
          "output_type": "stream",
          "name": "stdout",
          "text": [
            "Requirement already satisfied: sounddevice in /usr/local/lib/python3.12/dist-packages (0.5.2)\n",
            "Requirement already satisfied: soundfile in /usr/local/lib/python3.12/dist-packages (0.13.1)\n",
            "Requirement already satisfied: CFFI>=1.0 in /usr/local/lib/python3.12/dist-packages (from sounddevice) (1.17.1)\n",
            "Requirement already satisfied: numpy in /usr/local/lib/python3.12/dist-packages (from soundfile) (2.0.2)\n",
            "Requirement already satisfied: pycparser in /usr/local/lib/python3.12/dist-packages (from CFFI>=1.0->sounddevice) (2.22)\n"
          ]
        }
      ]
    },
    {
      "cell_type": "code",
      "source": [
        "from IPython.display import Javascript\n",
        "from google.colab import output\n",
        "import base64\n",
        "\n",
        "# Function to save audio data coming from the browser\n",
        "def save_audio(b64data):\n",
        "    audio_bytes = base64.b64decode(b64data.split(',')[1])\n",
        "    with open(\"output.wav\", \"wb\") as f:\n",
        "        f.write(audio_bytes)\n",
        "    print(\"✅ Audio saved to output.wav\")\n",
        "\n",
        "# Register Python callback\n",
        "output.register_callback('notebook.save', save_audio)\n",
        "\n",
        "# JavaScript to record audio in the browser\n",
        "def record(sec=5):\n",
        "  display(Javascript(\"\"\"\n",
        "  async function record(sec) {\n",
        "    const stream = await navigator.mediaDevices.getUserMedia({audio:true});\n",
        "    const recorder = new MediaRecorder(stream);\n",
        "    let data = [];\n",
        "    recorder.ondataavailable = event => data.push(event.data);\n",
        "    recorder.start();\n",
        "\n",
        "    // simulate press-and-hold: record for sec seconds\n",
        "    await new Promise(resolve => setTimeout(resolve, sec*1000));\n",
        "    recorder.stop();\n",
        "\n",
        "    await new Promise(resolve => recorder.onstop = resolve);\n",
        "    const blob = new Blob(data);\n",
        "    const reader = new FileReader();\n",
        "    reader.readAsDataURL(blob);\n",
        "    reader.onloadend = () => {\n",
        "      google.colab.kernel.invokeFunction('notebook.save', [reader.result], {});\n",
        "    };\n",
        "  }\n",
        "  record(%d);\n",
        "  \"\"\" % sec))\n"
      ],
      "metadata": {
        "id": "NpRSaSDL-miI"
      },
      "execution_count": 16,
      "outputs": []
    },
    {
      "cell_type": "code",
      "source": [
        "import os\n",
        "print(\"Files:\", os.listdir())\n"
      ],
      "metadata": {
        "id": "kWPWOAq1-_QI",
        "colab": {
          "base_uri": "https://localhost:8080/"
        },
        "outputId": "eb6312ce-dfa6-419b-8f9d-40271859fcc6"
      },
      "execution_count": 17,
      "outputs": [
        {
          "output_type": "stream",
          "name": "stdout",
          "text": [
            "Files: ['.config', 'sample_data']\n"
          ]
        }
      ]
    },
    {
      "cell_type": "code",
      "source": [
        "from IPython.display import Javascript\n",
        "from google.colab import output\n",
        "import base64\n",
        "\n",
        "# Function to save audio data coming from the browser\n",
        "def save_audio(b64data):\n",
        "    audio_bytes = base64.b64decode(b64data.split(',')[1])\n",
        "    with open(\"output.wav\", \"wb\") as f:\n",
        "        f.write(audio_bytes)\n",
        "    print(\"✅ Audio saved to output.wav\")\n",
        "\n",
        "# Register Python callback\n",
        "output.register_callback('notebook.save', save_audio)\n",
        "\n",
        "# JavaScript to record audio in the browser\n",
        "def record(sec=5):\n",
        "  display(Javascript(\"\"\"\n",
        "  async function record(sec) {\n",
        "    const stream = await navigator.mediaDevices.getUserMedia({audio:true});\n",
        "    const recorder = new MediaRecorder(stream);\n",
        "    let data = [];\n",
        "    recorder.ondataavailable = event => data.push(event.data);\n",
        "    recorder.start();\n",
        "\n",
        "    // simulate press-and-hold: record for sec seconds\n",
        "    await new Promise(resolve => setTimeout(resolve, sec*1000));\n",
        "    recorder.stop();\n",
        "\n",
        "    await new Promise(resolve => recorder.onstop = resolve);\n",
        "    const blob = new Blob(data);\n",
        "    const reader = new FileReader();\n",
        "    reader.readAsDataURL(blob);\n",
        "    reader.onloadend = () => {\n",
        "      google.colab.kernel.invokeFunction('notebook.save', [reader.result], {});\n",
        "    };\n",
        "  }\n",
        "  record(%d);\n",
        "  \"\"\" % sec))\n"
      ],
      "metadata": {
        "id": "Q1yXsT7K_A1s"
      },
      "execution_count": 28,
      "outputs": []
    },
    {
      "cell_type": "code",
      "source": [
        "record(5)  # record 5 seconds\n"
      ],
      "metadata": {
        "colab": {
          "base_uri": "https://localhost:8080/",
          "height": 34
        },
        "id": "wKyHbTJ4_WQp",
        "outputId": "842fb76f-ddb1-4a3c-8ac3-f3d885c6026a"
      },
      "execution_count": 29,
      "outputs": [
        {
          "output_type": "display_data",
          "data": {
            "text/plain": [
              "<IPython.core.display.Javascript object>"
            ],
            "application/javascript": [
              "\n",
              "  async function record(sec) {\n",
              "    const stream = await navigator.mediaDevices.getUserMedia({audio:true});\n",
              "    const recorder = new MediaRecorder(stream);\n",
              "    let data = [];\n",
              "    recorder.ondataavailable = event => data.push(event.data);\n",
              "    recorder.start();\n",
              "\n",
              "    // simulate press-and-hold: record for sec seconds\n",
              "    await new Promise(resolve => setTimeout(resolve, sec*1000));\n",
              "    recorder.stop();\n",
              "\n",
              "    await new Promise(resolve => recorder.onstop = resolve);\n",
              "    const blob = new Blob(data);\n",
              "    const reader = new FileReader();\n",
              "    reader.readAsDataURL(blob);\n",
              "    reader.onloadend = () => {\n",
              "      google.colab.kernel.invokeFunction('notebook.save', [reader.result], {});\n",
              "    };\n",
              "  }\n",
              "  record(5);\n",
              "  "
            ]
          },
          "metadata": {}
        },
        {
          "output_type": "stream",
          "name": "stdout",
          "text": [
            "✅ Audio saved to output.wav\n"
          ]
        }
      ]
    },
    {
      "cell_type": "code",
      "source": [
        "!ls -lh\n"
      ],
      "metadata": {
        "colab": {
          "base_uri": "https://localhost:8080/"
        },
        "id": "wM9yEUxjAZAx",
        "outputId": "6ecdcfd8-c090-4e3c-e8fb-82cb5c885610"
      },
      "execution_count": 30,
      "outputs": [
        {
          "output_type": "stream",
          "name": "stdout",
          "text": [
            "total 68K\n",
            "-rw-r--r-- 1 root root  64K Aug 27 10:13 output.wav\n",
            "drwxr-xr-x 1 root root 4.0K Aug 22 13:37 sample_data\n"
          ]
        }
      ]
    },
    {
      "cell_type": "code",
      "source": [
        "import os\n",
        "\n",
        "print(os.path.exists(\"output.wav\"))  # True if file is there\n"
      ],
      "metadata": {
        "colab": {
          "base_uri": "https://localhost:8080/"
        },
        "id": "ZKFsditPAfkD",
        "outputId": "938d7f3c-d8dd-47b6-c9dc-4b43890244ec"
      },
      "execution_count": 25,
      "outputs": [
        {
          "output_type": "stream",
          "name": "stdout",
          "text": [
            "True\n"
          ]
        }
      ]
    },
    {
      "cell_type": "code",
      "source": [
        "import os\n",
        "os.environ[\"GROQ_API_KEY\"] = \"Give_your_Api_key"\n"
      ],
      "metadata": {
        "id": "2ZtRP4fnBrEB"
      },
      "execution_count": 37,
      "outputs": []
    },
    {
      "cell_type": "code",
      "source": [
        "import os\n",
        "print(os.path.exists(\"output.wav\"), os.path.getsize(\"output.wav\"))\n"
      ],
      "metadata": {
        "colab": {
          "base_uri": "https://localhost:8080/"
        },
        "id": "DCFKhqoOI_0I",
        "outputId": "ec5cdcbd-f3b1-4b97-8e2e-2ce89f242ff7"
      },
      "execution_count": 48,
      "outputs": [
        {
          "output_type": "stream",
          "name": "stdout",
          "text": [
            "True 75509\n"
          ]
        }
      ]
    },
    {
      "cell_type": "markdown",
      "source": [
        "It’s a basic test script to verify if your API call works with Groq’s Whisper transcription service."
      ],
      "metadata": {
        "id": "V2zMbFDMhRW2"
      }
    },
    {
      "cell_type": "code",
      "source": [
        "import requests, os\n",
        "\n",
        "api_key = os.getenv(\"GROQ_API_KEY\")\n",
        "url = \"https://api.groq.com/openai/v1/audio/transcriptions\"\n",
        "\n",
        "with open(\"output.wav\", \"rb\") as f:\n",
        "    files = {\"file\": f}\n",
        "    data = {\"model\": \"whisper-large-v3\"}\n",
        "    headers = {\"Authorization\": f\"Bearer {api_key}\"}\n",
        "    response = requests.post(url, headers=headers, files=files, data=data)\n",
        "\n",
        "print(\"Status:\", response.status_code)\n",
        "print(\"Response:\", response.text)\n"
      ],
      "metadata": {
        "colab": {
          "base_uri": "https://localhost:8080/"
        },
        "id": "vZwFGx-2NUfx",
        "outputId": "6b843bb0-2118-40b4-a608-d32534870c48"
      },
      "execution_count": 51,
      "outputs": [
        {
          "output_type": "stream",
          "name": "stdout",
          "text": [
            "Status: 200\n",
            "Response: {\"text\":\" Hi, my name is Archit Prashad and my friend Danish is helping me in working this project.\",\"x_groq\":{\"id\":\"req_01k3nkasz1e2e9e8q8fv0c0y52\"}}\n",
            "\n"
          ]
        }
      ]
    },
    {
      "cell_type": "markdown",
      "source": [
        "It records audio through the browser, sends it to Groq’s Whisper API for transcription, and automatically inserts the recognized text into a text box, simulating how a voice-enabled keyboard would work."
      ],
      "metadata": {
        "id": "1Bs03An2h7or"
      }
    },
    {
      "cell_type": "code",
      "source": [
        "import base64, requests, os\n",
        "import ipywidgets as widgets\n",
        "from IPython.display import display, Javascript\n",
        "from google.colab import output\n",
        "\n",
        "# --- 1. Environment (simulating AVAudioSession setup) ---\n",
        "os.environ[\"GROQ_API_KEY\"] = \"Give_your_Api_key"\n",
        "\n",
        "# --- 2. UIInputViewController mimic: Keyboard window ---\n",
        "status_label = widgets.Label(value=\"Idle (Keyboard Ready)\")\n",
        "record_button = widgets.Button(description=\"🎤 Hold to Record\", layout=widgets.Layout(width='200px', height='50px'))\n",
        "text_box = widgets.Textarea(value=\"\", placeholder=\"Keyboard inserts text here...\",\n",
        "                            layout=widgets.Layout(width='100%', height='100px'))\n",
        "\n",
        "display(record_button, status_label, text_box)\n",
        "\n",
        "# --- 3. AVAudioRecorder mimic (Colab JS mic) ---\n",
        "def save_audio(b64data):\n",
        "    audio_bytes = base64.b64decode(b64data.split(',')[1])\n",
        "    with open(\"output.wav\", \"wb\") as f:\n",
        "        f.write(audio_bytes)\n",
        "    status_label.value = \"🟠 Audio saved. Processing...\"\n",
        "    transcribe_and_insert()\n",
        "\n",
        "output.register_callback('notebook.saveAudio', save_audio)\n",
        "\n",
        "def record_audio(sec=5):\n",
        "    display(Javascript(f\"\"\"\n",
        "    async function record(sec) {{\n",
        "      const stream = await navigator.mediaDevices.getUserMedia({{audio:true}});\n",
        "      const recorder = new MediaRecorder(stream);\n",
        "      let data = [];\n",
        "      recorder.ondataavailable = event => data.push(event.data);\n",
        "      recorder.start();\n",
        "      await new Promise(r => setTimeout(r, sec*1000));\n",
        "      recorder.stop();\n",
        "      await new Promise(resolve => recorder.onstop = resolve);\n",
        "      const blob = new Blob(data);\n",
        "      const reader = new FileReader();\n",
        "      reader.readAsDataURL(blob);\n",
        "      reader.onloadend = () => {{\n",
        "        google.colab.kernel.invokeFunction('notebook.saveAudio', [reader.result], {{}});\n",
        "      }};\n",
        "    }}\n",
        "    record({sec});\n",
        "    \"\"\"))\n",
        "\n",
        "# --- 4. UITextDocumentProxy mimic (insert text into text area) ---\n",
        "def transcribe_and_insert():\n",
        "    api_key = os.getenv(\"GROQ_API_KEY\")\n",
        "    url = \"https://api.groq.com/openai/v1/audio/transcriptions\"\n",
        "    with open(\"output.wav\", \"rb\") as f:\n",
        "        files = {\"file\": f}\n",
        "        data = {\"model\": \"whisper-large-v3\"}\n",
        "        headers = {\"Authorization\": f\"Bearer {api_key}\"}\n",
        "        r = requests.post(url, headers=headers, files=files, data=data)\n",
        "\n",
        "    if r.ok:\n",
        "        transcription = r.json().get(\"text\", \"\")\n",
        "        # Insert transcription into text_box (simulating proxy.insertText)\n",
        "        text_box.value += transcription + \" \"\n",
        "        status_label.value = \"✅ Text inserted into proxy\"\n",
        "    else:\n",
        "        status_label.value = f\"❌ Error: {r.text}\"\n",
        "\n",
        "# --- 5. Button events ---\n",
        "def on_click(b):\n",
        "    status_label.value = \"🔴 Recording...\"\n",
        "    record_audio(sec=5)   # fixed duration, can adjust\n",
        "\n",
        "record_button.on_click(on_click)"
      ],
      "metadata": {
        "colab": {
          "base_uri": "https://localhost:8080/",
          "height": 225,
          "referenced_widgets": [
            "e5c52079a9ba455f8b0e8b0c670b1ddc",
            "db93560416e04a03933a56277fffc2b5",
            "75c1407692fa44a5b228dd8d9d7dc8e9",
            "ad2efd3a3b884f90a79fbafc818d21e2",
            "b24191994977417e95024f6e31e6ac40",
            "498ad4ffc29c4bde9a3abbec8c9240e4",
            "13c502f422fb4d1db4177d79ed466f46",
            "1fa342fc8612426fb7f2f7b7e5f60913",
            "15910a158e7a4269820af61ba3d621a2"
          ]
        },
        "id": "eqCNHLsdgaRi",
        "outputId": "13608b03-b559-46ee-88e7-335a1c5479a6"
      },
      "execution_count": 8,
      "outputs": [
        {
          "output_type": "display_data",
          "data": {
            "text/plain": [
              "Button(description='🎤 Hold to Record', layout=Layout(height='50px', width='200px'), style=ButtonStyle())"
            ],
            "application/vnd.jupyter.widget-view+json": {
              "version_major": 2,
              "version_minor": 0,
              "model_id": "e5c52079a9ba455f8b0e8b0c670b1ddc"
            }
          },
          "metadata": {}
        },
        {
          "output_type": "display_data",
          "data": {
            "text/plain": [
              "Label(value='Idle (Keyboard Ready)')"
            ],
            "application/vnd.jupyter.widget-view+json": {
              "version_major": 2,
              "version_minor": 0,
              "model_id": "ad2efd3a3b884f90a79fbafc818d21e2"
            }
          },
          "metadata": {}
        },
        {
          "output_type": "display_data",
          "data": {
            "text/plain": [
              "Textarea(value='', layout=Layout(height='100px', width='100%'), placeholder='Keyboard inserts text here...')"
            ],
            "application/vnd.jupyter.widget-view+json": {
              "version_major": 2,
              "version_minor": 0,
              "model_id": "13c502f422fb4d1db4177d79ed466f46"
            }
          },
          "metadata": {}
        },
        {
          "output_type": "display_data",
          "data": {
            "text/plain": [
              "<IPython.core.display.Javascript object>"
            ],
            "application/javascript": [
              "\n",
              "    async function record(sec) {\n",
              "      const stream = await navigator.mediaDevices.getUserMedia({audio:true});\n",
              "      const recorder = new MediaRecorder(stream);\n",
              "      let data = [];\n",
              "      recorder.ondataavailable = event => data.push(event.data);\n",
              "      recorder.start();\n",
              "      await new Promise(r => setTimeout(r, sec*1000));\n",
              "      recorder.stop();\n",
              "      await new Promise(resolve => recorder.onstop = resolve);\n",
              "      const blob = new Blob(data);\n",
              "      const reader = new FileReader();\n",
              "      reader.readAsDataURL(blob);\n",
              "      reader.onloadend = () => {\n",
              "        google.colab.kernel.invokeFunction('notebook.saveAudio', [reader.result], {});\n",
              "      };\n",
              "    }\n",
              "    record(5);\n",
              "    "
            ]
          },
          "metadata": {}
        }
      ]
    }
  ]
}
